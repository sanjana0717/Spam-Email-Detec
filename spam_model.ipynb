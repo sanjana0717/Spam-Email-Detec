{
 "cells": [
  {
   "cell_type": "code",
   "execution_count": 1,
   "metadata": {},
   "outputs": [],
   "source": [
    "#Importing the required libraries\n",
    "import pandas as pd  \n",
    "import numpy as np \n",
    "import re \n",
    "import pickle\n",
    "from sklearn.model_selection import train_test_split\n",
    "from sklearn.ensemble import RandomForestClassifier\n",
    "from sklearn.metrics import accuracy_score"
   ]
  },
  {
   "cell_type": "code",
   "execution_count": 2,
   "metadata": {},
   "outputs": [
    {
     "name": "stdout",
     "output_type": "stream",
     "text": [
      "                                                 text  label\n",
      "0                                    Win $1000 now!!!      1\n",
      "1   Dear user, your email has been selected for a ...      1\n",
      "2                                    Meeting at 5 PM.      0\n",
      "3                      Exclusive offer! Limited time!      1\n",
      "4                                  Lunch at my place?      0\n",
      "5                   Click here to claim your prize!!!      1\n",
      "6   Congratulations! You've won a FREE iPhone! Cli...      1\n",
      "7   Your Amazon order #12345 has been shipped and ...      0\n",
      "8                                Let's catch up soon.      0\n",
      "9   URGENT! Your bank account has been compromised...      1\n",
      "10  Earn $5000 per week working from home! No expe...      1\n",
      "11  Reminder: Your dentist appointment is schedule...      0\n",
      "12  Hi Mom, I'll be home by 6 PM. Let me know if y...      0\n",
      "13  Limited-time offer! Get 90% off on weight loss...      1\n",
      "14  Project meeting at 3 PM today. Let’s discuss t...      0\n"
     ]
    }
   ],
   "source": [
    "data={\n",
    "    'text':[\n",
    "        \"Win $1000 now!!!\",\n",
    "        \"Dear user, your email has been selected for a cash reward of $1,000,000. Reply with your details!\",\n",
    "        \"Meeting at 5 PM.\",\n",
    "        \"Exclusive offer! Limited time!\", \n",
    "        \"Lunch at my place?\", \n",
    "        \"Click here to claim your prize!!!\", \n",
    "        \"Congratulations! You've won a FREE iPhone! Click here to claim your prize\",\n",
    "        \"Your Amazon order #12345 has been shipped and will arrive soon.\",\n",
    "        \"Let's catch up soon.\",\n",
    "        \"URGENT! Your bank account has been compromised. Verify your details immediately\",\n",
    "        \"Earn $5000 per week working from home! No experience needed. Sign up now!\",\n",
    "        \"Reminder: Your dentist appointment is scheduled for March 20 at 10 AM.\",\n",
    "        \"Hi Mom, I'll be home by 6 PM. Let me know if you need anything from the store.\",\n",
    "        \"Limited-time offer! Get 90% off on weight loss pills. Order now before it's too late!\",\n",
    "        \"Project meeting at 3 PM today. Let’s discuss the final updates.\",\n",
    "        ],\n",
    "    'label':[1,1,0,1,0,1,1,0,0,1,1,0,0,1,0] #1 = spam , 0 = ham\n",
    "}\n",
    "\n",
    "df=pd.DataFrame(data)\n",
    "print(df)"
   ]
  },
  {
   "cell_type": "markdown",
   "metadata": {},
   "source": [
    "# Feature Engineering\n",
    "### Email length (longer emails are often spam)\n",
    "### Number of capital letters (spam messages often use excessive capitalization)\n",
    "### Number of special characters ($, !, @, etc.)\n",
    "### Number of links (spam often contains multiple links)\n",
    "### Presence of spammy words (like \"win\", \"free\", \"click\", \"urgent\")"
   ]
  },
  {
   "cell_type": "code",
   "execution_count": 3,
   "metadata": {},
   "outputs": [
    {
     "name": "stdout",
     "output_type": "stream",
     "text": [
      "Accuracy: {1.0}\n"
     ]
    }
   ],
   "source": [
    "#feature extraction using a function\n",
    "def extract_feature(email):\n",
    "    return[\n",
    "            len(email), #return the length of the email\n",
    "            sum(c.isupper() for c in email)/len(email), #uppercase ratio\n",
    "            sum(c.isdigit() for c in email), #return the no. of digit\n",
    "            len(re.findall(r'[?!@.$%]',email)), #speccial character count\n",
    "            int(bool(re.search(r'\\b(win|free|offer|prize|urgent|earn|free|click|congratulations)\\b',email, re.IGNORECASE))),\n",
    "            int(bool(re.search(r'(https?://|www\\.)\\S+', email, re.IGNORECASE)))\n",
    "    ]\n",
    "x=np.array([extract_feature(email)for email in df['text']])\n",
    "y=df['label']\n",
    "\n",
    "#spliting the data into training and testing set\n",
    "x_train, x_test, y_train, y_test= train_test_split(x,y, test_size=0.2, random_state=42)\n",
    "\n",
    "#training the model\n",
    "model=RandomForestClassifier(n_estimators=100, random_state=42)\n",
    "model.fit(x_train,y_train)\n",
    "\n",
    "#testing model accuracy\n",
    "y_pred=model.predict(x_test)\n",
    "print(\"Accuracy:\" ,{accuracy_score(y_test,y_pred)})"
   ]
  },
  {
   "cell_type": "code",
   "execution_count": 4,
   "metadata": {},
   "outputs": [],
   "source": [
    "new_spam_emails = [\n",
    "    \"Congratulations! You’ve won a free iPhone! Click here to claim your prize.\",\n",
    "    \"Your bank account has been compromised! Click here to secure it now.\",\n",
    "    \"Exclusive deal! Get 90% off on our latest product. Limited time only!\",\n",
    "    \"Click here to receive an instant $500 bonus!\",\n",
    "    \n",
    "]\n",
    "new_labels = [1, 1, 1, 1]  # All are spam\n",
    "\n",
    "# Create a new DataFrame for the new data\n",
    "new_data = pd.DataFrame({\"text\": new_spam_emails, \"label\": new_labels})\n",
    "\n",
    "# Concatenate the new data with the existing DataFrame\n",
    "df = pd.concat([df, new_data], ignore_index=True)\n",
    "\n"
   ]
  },
  {
   "cell_type": "code",
   "execution_count": 5,
   "metadata": {},
   "outputs": [
    {
     "name": "stdout",
     "output_type": "stream",
     "text": [
      "Spam\n",
      "Not Spam\n"
     ]
    }
   ],
   "source": [
    "#function for testing new text\n",
    "def predict_spam(email):\n",
    "    feature=np.array([extract_feature(email)])\n",
    "    return 'Spam' if model.predict(feature)[0]== 1 else \"Not Spam\"\n",
    "\n",
    "\n",
    "print(predict_spam(\"You are the lucky winner of $10,000! Claim now: http://winbig.com\"))\n",
    "print(predict_spam(\"Hi Mom, I'll be home by 6 PM. Let me know if you need anything from the store.\"))"
   ]
  },
  {
   "cell_type": "code",
   "execution_count": 6,
   "metadata": {},
   "outputs": [],
   "source": [
    "with open(\"spam_model.pkl\", \"wb\") as f:\n",
    "    pickle.dump(model, f)"
   ]
  },
  {
   "cell_type": "markdown",
   "metadata": {},
   "source": [
    "## Fast API code for application"
   ]
  },
  {
   "cell_type": "code",
   "execution_count": 7,
   "metadata": {},
   "outputs": [],
   "source": [
    "import nest_asyncio\n",
    "from fastapi import FastAPI\n",
    "from fastapi.responses import FileResponse\n",
    "from pydantic import BaseModel\n",
    "import os\n",
    "import re\n",
    "import numpy as np\n",
    "import pickle\n",
    "import uvicorn"
   ]
  },
  {
   "cell_type": "code",
   "execution_count": null,
   "metadata": {},
   "outputs": [
    {
     "name": "stderr",
     "output_type": "stream",
     "text": [
      "INFO:     Started server process [10984]\n",
      "INFO:     Waiting for application startup.\n",
      "INFO:     Application startup complete.\n",
      "INFO:     Uvicorn running on http://127.0.0.1:8000 (Press CTRL+C to quit)\n"
     ]
    },
    {
     "name": "stdout",
     "output_type": "stream",
     "text": [
      "INFO:     127.0.0.1:49265 - \"GET / HTTP/1.1\" 200 OK\n",
      "INFO:     127.0.0.1:49265 - \"GET /favicon.ico HTTP/1.1\" 404 Not Found\n",
      "Received email text: saxenaritik3003@gmail.com\n",
      "Extracted Features: [[25.  0.  4.  2.  0.  0.]]\n",
      "Model Prediction: 0\n",
      "INFO:     127.0.0.1:49301 - \"POST /predict HTTP/1.1\" 200 OK\n",
      "Received email text: You Won A CAR\n",
      "\n",
      "\n",
      "Extracted Features: [[15.   0.4  0.   0.   0.   0. ]]\n",
      "Model Prediction: 0\n",
      "INFO:     127.0.0.1:49310 - \"POST /predict HTTP/1.1\" 200 OK\n",
      "Received email text: You Won A CAR\n",
      "\n",
      "\n",
      "Extracted Features: [[15.   0.4  0.   0.   0.   0. ]]\n",
      "Model Prediction: 0\n",
      "INFO:     127.0.0.1:49310 - \"POST /predict HTTP/1.1\" 200 OK\n",
      "Received email text: You Won A CAR\n",
      "\n",
      "\n",
      "Extracted Features: [[15.   0.4  0.   0.   0.   0. ]]\n",
      "Model Prediction: 0\n",
      "INFO:     127.0.0.1:49316 - \"POST /predict HTTP/1.1\" 200 OK\n",
      "Received email text: You Won A CAR!!\n",
      "\n",
      "\n",
      "Extracted Features: [[17.          0.35294118  0.          2.          0.          0.        ]]\n",
      "Model Prediction: 0\n",
      "INFO:     127.0.0.1:49331 - \"POST /predict HTTP/1.1\" 200 OK\n",
      "INFO:     127.0.0.1:49334 - \"GET / HTTP/1.1\" 200 OK\n",
      "Received email text: RAM IS A GOOD BOY\n",
      "Extracted Features: [[17.          0.76470588  0.          0.          0.          0.        ]]\n",
      "Model Prediction: 0\n",
      "INFO:     127.0.0.1:49340 - \"POST /predict HTTP/1.1\" 200 OK\n",
      "Received email text: YOU WON 10CR TODAY\n",
      "Extracted Features: [[18.          0.72222222  2.          0.          0.          0.        ]]\n",
      "Model Prediction: 0\n",
      "INFO:     127.0.0.1:49350 - \"POST /predict HTTP/1.1\" 200 OK\n",
      "Received email text: YOU WON 10CR TODAY\n",
      "Extracted Features: [[18.          0.72222222  2.          0.          0.          0.        ]]\n",
      "Model Prediction: 0\n",
      "INFO:     127.0.0.1:49350 - \"POST /predict HTTP/1.1\" 200 OK\n",
      "Received email text: YOU WON 10CR TODAY\n",
      "Extracted Features: [[18.          0.72222222  2.          0.          0.          0.        ]]\n",
      "Model Prediction: 0\n",
      "INFO:     127.0.0.1:49350 - \"POST /predict HTTP/1.1\" 200 OK\n",
      "Received email text: YOU WON 10CR TODAY\n",
      "Extracted Features: [[18.          0.72222222  2.          0.          0.          0.        ]]\n",
      "Model Prediction: 0\n",
      "INFO:     127.0.0.1:49350 - \"POST /predict HTTP/1.1\" 200 OK\n",
      "Received email text: YOU WON 10CR TODAY\n",
      "Extracted Features: [[18.          0.72222222  2.          0.          0.          0.        ]]\n",
      "Model Prediction: 0\n",
      "INFO:     127.0.0.1:49350 - \"POST /predict HTTP/1.1\" 200 OK\n",
      "Received email text: YOU WON 10CR TODAY\n",
      "Extracted Features: [[18.          0.72222222  2.          0.          0.          0.        ]]\n",
      "Model Prediction: 0\n",
      "INFO:     127.0.0.1:49350 - \"POST /predict HTTP/1.1\" 200 OK\n",
      "Received email text: Congratulations!!! You Won A  Car!!\n",
      "Extracted Features: [[35.          0.14285714  0.          5.          1.          0.        ]]\n",
      "Model Prediction: 1\n",
      "INFO:     127.0.0.1:49412 - \"POST /predict HTTP/1.1\" 200 OK\n"
     ]
    }
   ],
   "source": [
    "nest_asyncio.apply()\n",
    "\n",
    "#loading the trained model\n",
    "with open('spam_model.pkl','rb')as f:\n",
    "    model=pickle.load(f)\n",
    "\n",
    "#initialize the fastAPI app\n",
    "app=FastAPI()\n",
    "\n",
    "#serve html page\n",
    "@app.get('/')\n",
    "def read_root():\n",
    "    return FileResponse(os.path.join(\"static\", \"index.html\"))\n",
    "\n",
    "def extract_feature(email):\n",
    "    return[\n",
    "            len(email), #return the length of the email\n",
    "            sum(c.isupper() for c in email)/len(email), #uppercase ratio\n",
    "            sum(c.isdigit() for c in email), #return the no. of digit\n",
    "            len(re.findall(r'[?!@.$%]',email)), #special character count\n",
    "            int(bool(re.search(r'\\b(win|free|offer|prize|urgent|earn|free|click|congratulations)\\b',email, re.IGNORECASE))),\n",
    "            int(bool(re.search(r'(https?://|www\\.)\\S+', email, re.IGNORECASE)))\n",
    "    ]\n",
    "\n",
    "#define basemodel\n",
    "class EmailRequest(BaseModel):\n",
    "    email_text: str\n",
    "\n",
    "#API route for spam detection\n",
    "@app.post(\"/predict\")\n",
    "def predict_spam(request: EmailRequest):\n",
    "    print(\"Received email text:\", request.email_text)  # Debugging line\n",
    "    email_features = np.array([extract_feature(request.email_text)])\n",
    "    prediction = model.predict(email_features)[0]\n",
    "    print(\"Extracted Features:\", email_features)  # Debugging line\n",
    "    print(\"Model Prediction:\", prediction)  # Debugging line\n",
    "    return {\"spam\": bool(prediction)}\n",
    "\n",
    "# Run FastAPI in Jupyter Notebook\n",
    "config = uvicorn.Config(app, host=\"127.0.0.1\", port=8000)\n",
    "server = uvicorn.Server(config)\n",
    "\n",
    "server.run()\n"
   ]
  }
 ],
 "metadata": {
  "kernelspec": {
   "display_name": "Python 3",
   "language": "python",
   "name": "python3"
  },
  "language_info": {
   "codemirror_mode": {
    "name": "ipython",
    "version": 3
   },
   "file_extension": ".py",
   "mimetype": "text/x-python",
   "name": "python",
   "nbconvert_exporter": "python",
   "pygments_lexer": "ipython3",
   "version": "3.13.0"
  }
 },
 "nbformat": 4,
 "nbformat_minor": 2
}
