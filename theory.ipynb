{
 "cells": [
  {
   "cell_type": "markdown",
   "metadata": {},
   "source": [
    "### **import re** (Regular Expression)\n",
    "### re.search(pattern, string) =>\tSearches for a match anywhere in the string,\tEg- Find \"hello\" in \"hello world\"\n",
    "### re.match(pattern, string)\t=> Matches only at the beginning of the string,\tEg- Check if string starts with \"hello\"\n",
    "### re.findall(pattern, string)\t=> Returns all matches in a list,\tEg- Extract all numbers from a text\n",
    "### re.sub(pattern, replacement, string)\t=> Replaces pattern with something else,\tEg- Replace \"dog\" with \"cat\" in a sentence\n",
    "### re.split(pattern, string)\t=> Splits a string by a regex pattern,\tEg- Split a sentence by spaces or punctuation\n",
    "\n",
    "###  **from sklearn.model_selection import train_test_split**[ USED TO SPLIT THE DATASET INTO THE TRAINING SET AND TESTING SET]\n",
    "### **from sklearn.ensemble import RandomForestClassifier** [IMPORT RANDOM FOREST MODEL]\n",
    "### **from sklearn.metrics import accuracy_score, classification_report, confusion_matrix**"
   ]
  }
 ],
 "metadata": {
  "kernelspec": {
   "display_name": "Python 3",
   "language": "python",
   "name": "python3"
  },
  "language_info": {
   "name": "python",
   "version": "3.13.0"
  }
 },
 "nbformat": 4,
 "nbformat_minor": 2
}
